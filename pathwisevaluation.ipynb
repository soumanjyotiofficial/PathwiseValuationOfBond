{
 "cells": [
  {
   "cell_type": "code",
   "execution_count": 15,
   "metadata": {},
   "outputs": [
    {
     "name": "stdout",
     "output_type": "stream",
     "text": [
      "\n"
     ]
    }
   ],
   "source": [
    "\"\"\"\n",
    "Bond X (Option-free)\n",
    "Par value       $100\n",
    "Maturity        3 years\n",
    "Coupon rate     5% (Annual pay)      $5\n",
    "Type            Option-free\n",
    "\n",
    "Calculate the value of bond X using the path: 3.00% → 5.20% → 4.80%\n",
    "\n",
    "T = 0   T = 1   T = 2\n",
    "                 6.3\n",
    "        5.2\n",
    "  3              4.8\n",
    "        3.6\n",
    "                 4.\n",
    "\n",
    "\"\"\"\n",
    "print()"
   ]
  },
  {
   "cell_type": "code",
   "execution_count": 16,
   "metadata": {},
   "outputs": [],
   "source": [
    "import random\n",
    "import numpy as np\n",
    "nodes = [[3],[5.2,3.6],[6.3,4.8,4]]\n"
   ]
  },
  {
   "cell_type": "code",
   "execution_count": 24,
   "metadata": {},
   "outputs": [
    {
     "name": "stdout",
     "output_type": "stream",
     "text": [
      "Following are teh randomly generated paths:\n",
      "[3, 3.6, 4.8]\n",
      "[3, 5.2, 4.8]\n",
      "[3, 5.2, 6.3]\n",
      "[3, 3.6, 4]\n"
     ]
    }
   ],
   "source": [
    "\n",
    "\n",
    "def path_definer(trial, nodes):\n",
    "    trial = 4\n",
    "    count = 0\n",
    "    previouse_count = 0\n",
    "    final_paths = []\n",
    "    a = len(nodes)\n",
    "    runn = True\n",
    "    \n",
    "    while count <trial:\n",
    "        previouse_count = count\n",
    "        rate_2_index = random.randint(0, random.randint(0,len(nodes[1])-1))\n",
    "\n",
    "\n",
    "        rate_1 = nodes[0][0]\n",
    "        rate_2 = nodes[1][rate_2_index]\n",
    "        rate_3_index = random.randint(rate_2_index, rate_2_index+1)\n",
    "\n",
    "\n",
    "        rate_3 = nodes[2][rate_3_index]\n",
    "        #print(rate_1, rate_2==3.6, rate_3==6.3)\n",
    "        #print(rate_1, rate_2, rate_3)\n",
    "        \n",
    "        if [rate_1, rate_2, rate_3] not in final_paths:\n",
    "            final_paths.append([rate_1, rate_2, rate_3]) \n",
    "            \n",
    "            count+=1\n",
    "    \n",
    "        \n",
    "            \n",
    "        #print(\"count: \", count,rate_2==3.6 and rate_3==6.3)\n",
    "    return final_paths\n",
    "\n",
    "\n",
    "paths = path_definer(4, nodes)\n",
    "print(\"Following are teh randomly generated paths:\", )\n",
    "\n",
    "for a in paths: print(a)"
   ]
  },
  {
   "cell_type": "code",
   "execution_count": 28,
   "metadata": {},
   "outputs": [
    {
     "name": "stdout",
     "output_type": "stream",
     "text": [
      "Following are the present value:\n",
      "Path 1 100.73614723865819\n",
      "Path 2 100.59551998647031\n",
      "Path 3 96.78800206879092\n",
      "Path 4 102.85753372207449\n"
     ]
    }
   ],
   "source": [
    "def pv_calculator(path, cpn, par):\n",
    "    rate = np.array([ 1+path[a]/100 for a  in range(len(path))])\n",
    "    exp = np.array([ (a+1) for a  in range(len(path))])\n",
    "    df = 1/(rate**exp)\n",
    "    return sum(df)*cpn+par*df[-1]\n",
    "\n",
    "\n",
    "pvs = []\n",
    "for path in paths:\n",
    "    pvs.append(pv_calculator(path=path, cpn=5, par=100,))\n",
    "print(\"Following are the present value:\")\n",
    "for a in range(len(pvs)): print(f\"Path {a+1} {pvs[a]}\")\n"
   ]
  },
  {
   "cell_type": "code",
   "execution_count": 29,
   "metadata": {},
   "outputs": [
    {
     "name": "stdout",
     "output_type": "stream",
     "text": [
      "Estimated value of bond X is 100.24430075399847\n"
     ]
    }
   ],
   "source": [
    "estimated_value_of_bond = np.mean(pvs)\n",
    "print(f\"Estimated value of bond X is {estimated_value_of_bond}\")"
   ]
  },
  {
   "cell_type": "code",
   "execution_count": 30,
   "metadata": {},
   "outputs": [],
   "source": [
    "#Calculate the value of bond X using the path: 3.00% → 5.20% → 4.80%"
   ]
  },
  {
   "cell_type": "code",
   "execution_count": 32,
   "metadata": {},
   "outputs": [
    {
     "name": "stdout",
     "output_type": "stream",
     "text": [
      "100.6 is the extimated present value of bond X using the path: 3.00% → 5.20% → 4.80%\n"
     ]
    }
   ],
   "source": [
    "case_path = [3,5.2,4.8]\n",
    "print(f\"{round(pv_calculator(path=case_path, cpn=5, par=100,),2)} is the extimated present value of bond X using the path: 3.00% → 5.20% → 4.80%\")"
   ]
  },
  {
   "cell_type": "code",
   "execution_count": null,
   "metadata": {},
   "outputs": [],
   "source": []
  }
 ],
 "metadata": {
  "kernelspec": {
   "display_name": "Python 3",
   "language": "python",
   "name": "python3"
  },
  "language_info": {
   "codemirror_mode": {
    "name": "ipython",
    "version": 3
   },
   "file_extension": ".py",
   "mimetype": "text/x-python",
   "name": "python",
   "nbconvert_exporter": "python",
   "pygments_lexer": "ipython3",
   "version": "3.10.1"
  }
 },
 "nbformat": 4,
 "nbformat_minor": 2
}
